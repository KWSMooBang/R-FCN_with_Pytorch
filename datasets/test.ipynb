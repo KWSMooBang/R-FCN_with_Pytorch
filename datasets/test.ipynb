{
 "cells": [
  {
   "cell_type": "code",
   "execution_count": 1,
   "metadata": {},
   "outputs": [],
   "source": [
    "import os\n",
    "import numpy as np\n",
    "\n",
    "from torchvision.datasets import VOCDetection\n",
    "from CustomVOCDetection import CustomVOCDetection\n",
    "from xml.etree.ElementTree import parse as ET_parse"
   ]
  },
  {
   "cell_type": "code",
   "execution_count": 2,
   "metadata": {},
   "outputs": [],
   "source": [
    "VOC_dataset = VOCDetection(\n",
    "    root=os.getcwd(),\n",
    "    year='2012',\n",
    "    image_set='train',\n",
    "    download=False,    \n",
    ")"
   ]
  },
  {
   "cell_type": "code",
   "execution_count": null,
   "metadata": {},
   "outputs": [
    {
     "data": {
      "text/plain": [
       "{'annotation': {'folder': 'VOC2012',\n",
       "  'filename': '2008_000008.jpg',\n",
       "  'source': {'database': 'The VOC2008 Database',\n",
       "   'annotation': 'PASCAL VOC2008',\n",
       "   'image': 'flickr'},\n",
       "  'size': {'width': '500', 'height': '442', 'depth': '3'},\n",
       "  'segmented': '0',\n",
       "  'object': [{'name': 'horse',\n",
       "    'pose': 'Left',\n",
       "    'truncated': '0',\n",
       "    'occluded': '1',\n",
       "    'bndbox': {'xmin': '53', 'ymin': '87', 'xmax': '471', 'ymax': '420'},\n",
       "    'difficult': '0'},\n",
       "   {'name': 'person',\n",
       "    'pose': 'Unspecified',\n",
       "    'truncated': '1',\n",
       "    'occluded': '0',\n",
       "    'bndbox': {'xmin': '158', 'ymin': '44', 'xmax': '289', 'ymax': '167'},\n",
       "    'difficult': '0'}]}}"
      ]
     },
     "execution_count": 22,
     "metadata": {},
     "output_type": "execute_result"
    }
   ],
   "source": [
    "VOCDetection.parse_voc_xml(ET_parse(VOC_dataset.annotations[0]).getroot())"
   ]
  },
  {
   "cell_type": "code",
   "execution_count": 3,
   "metadata": {},
   "outputs": [
    {
     "name": "stdout",
     "output_type": "stream",
     "text": [
      "wrote gt roidb to /workspaces/R-FCN_with_Pytorch/datasets/cache/pascal_voc_2012_train_gt_roidb.pkl\n"
     ]
    }
   ],
   "source": [
    "custom_dataset = CustomVOCDetection(\n",
    "    root=os.getcwd(),\n",
    "    year='2012',\n",
    "    image_set='train',\n",
    "    download=False, \n",
    ")"
   ]
  },
  {
   "cell_type": "code",
   "execution_count": 5,
   "metadata": {},
   "outputs": [
    {
     "data": {
      "text/plain": [
       "5717"
      ]
     },
     "execution_count": 5,
     "metadata": {},
     "output_type": "execute_result"
    }
   ],
   "source": [
    "len(custom_dataset.roidb)"
   ]
  },
  {
   "cell_type": "code",
   "execution_count": null,
   "metadata": {},
   "outputs": [],
   "source": []
  }
 ],
 "metadata": {
  "kernelspec": {
   "display_name": "Python 3",
   "language": "python",
   "name": "python3"
  },
  "language_info": {
   "codemirror_mode": {
    "name": "ipython",
    "version": 3
   },
   "file_extension": ".py",
   "mimetype": "text/x-python",
   "name": "python",
   "nbconvert_exporter": "python",
   "pygments_lexer": "ipython3",
   "version": "3.10.13"
  }
 },
 "nbformat": 4,
 "nbformat_minor": 2
}
